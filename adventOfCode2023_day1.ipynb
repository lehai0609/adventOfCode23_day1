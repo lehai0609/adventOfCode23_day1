{
 "cells": [
  {
   "cell_type": "markdown",
   "metadata": {},
   "source": [
    "# ***Advent of Code 2023 - Day 1***\n",
    "\n",
    "***Objective***:\n",
    "Obtain `calibration value` by combining the `first digit` & `last digit` to form a single number.\n",
    "\n",
    "For example:\n",
    "\n",
    "| Value | Calibrate values |\n",
    "|-------|-----------------|\n",
    "| 1abc2 | 12 |\n",
    "| pqr3stu8vwx | 38 |\n",
    "| a1b2c3d4e5f | 15 |\n",
    "| treb7uchet | 77 |\n",
    "\n",
    "In the end, what is the total sum of calibration value of given input?"
   ]
  },
  {
   "cell_type": "markdown",
   "metadata": {},
   "source": [
    "## ***Day 1 - Part A***"
   ]
  },
  {
   "cell_type": "markdown",
   "metadata": {},
   "source": [
    "### Step 1: Obtain input data"
   ]
  },
  {
   "cell_type": "code",
   "execution_count": 26,
   "metadata": {},
   "outputs": [
    {
     "data": {
      "text/html": [
       "<div>\n",
       "<style scoped>\n",
       "    .dataframe tbody tr th:only-of-type {\n",
       "        vertical-align: middle;\n",
       "    }\n",
       "\n",
       "    .dataframe tbody tr th {\n",
       "        vertical-align: top;\n",
       "    }\n",
       "\n",
       "    .dataframe thead th {\n",
       "        text-align: right;\n",
       "    }\n",
       "</style>\n",
       "<table border=\"1\" class=\"dataframe\">\n",
       "  <thead>\n",
       "    <tr style=\"text-align: right;\">\n",
       "      <th></th>\n",
       "      <th>0</th>\n",
       "    </tr>\n",
       "  </thead>\n",
       "  <tbody>\n",
       "    <tr>\n",
       "      <th>0</th>\n",
       "      <td>xt36five77</td>\n",
       "    </tr>\n",
       "    <tr>\n",
       "      <th>1</th>\n",
       "      <td>two8five6zfrtjj</td>\n",
       "    </tr>\n",
       "    <tr>\n",
       "      <th>2</th>\n",
       "      <td>eightthree8fiveqjgsdzgnnineeight</td>\n",
       "    </tr>\n",
       "    <tr>\n",
       "      <th>3</th>\n",
       "      <td>7chmvlhnpfive</td>\n",
       "    </tr>\n",
       "    <tr>\n",
       "      <th>4</th>\n",
       "      <td>1tcrgthmeight5mssseight</td>\n",
       "    </tr>\n",
       "  </tbody>\n",
       "</table>\n",
       "</div>"
      ],
      "text/plain": [
       "                                  0\n",
       "0                        xt36five77\n",
       "1                   two8five6zfrtjj\n",
       "2  eightthree8fiveqjgsdzgnnineeight\n",
       "3                     7chmvlhnpfive\n",
       "4           1tcrgthmeight5mssseight"
      ]
     },
     "execution_count": 26,
     "metadata": {},
     "output_type": "execute_result"
    }
   ],
   "source": [
    "# Obtain input data from input.txt file\n",
    "import pandas as pd\n",
    "import numpy as np\n",
    "\n",
    "df = pd.read_csv('input.txt', header=None)\n",
    "df.head()"
   ]
  },
  {
   "cell_type": "markdown",
   "metadata": {},
   "source": [
    "### Step 2: Extract digit from each line"
   ]
  },
  {
   "cell_type": "code",
   "execution_count": 27,
   "metadata": {},
   "outputs": [
    {
     "name": "stdout",
     "output_type": "stream",
     "text": [
      "                                  0         digit\n",
      "0                        xt36five77  [3, 6, 7, 7]\n",
      "1                   two8five6zfrtjj        [8, 6]\n",
      "2  eightthree8fiveqjgsdzgnnineeight           [8]\n",
      "3                     7chmvlhnpfive           [7]\n",
      "4           1tcrgthmeight5mssseight        [1, 5]\n"
     ]
    }
   ],
   "source": [
    "# Using regular expression to extract numerical character from the string on each line\n",
    "# To achieve best performance, we use vectorized operation to loop through the entire dataframe\n",
    "import re\n",
    "df['digit'] = df[0].apply(lambda x: re.findall(r'\\d', x))\n",
    "print(df.head())"
   ]
  },
  {
   "cell_type": "code",
   "execution_count": 28,
   "metadata": {},
   "outputs": [
    {
     "name": "stdout",
     "output_type": "stream",
     "text": [
      "                                  0         digit  calibrate\n",
      "0                        xt36five77  [3, 6, 7, 7]         37\n",
      "1                   two8five6zfrtjj        [8, 6]         86\n",
      "2  eightthree8fiveqjgsdzgnnineeight           [8]         88\n",
      "3                     7chmvlhnpfive           [7]         77\n",
      "4           1tcrgthmeight5mssseight        [1, 5]         15\n"
     ]
    }
   ],
   "source": [
    "# From the extracted numerical character, form the calibration values of 1st & last digit\n",
    "# Edge cases: \n",
    "# If the list is empty, calibration value = 0\n",
    "# If the list has only 1 element, calibration value = dupplicate of the digit. [8] -> 88\n",
    "def calibrate(digit):\n",
    "    if len(digit) == 0:\n",
    "        return 0\n",
    "    elif len(digit) == 1:\n",
    "        return int(digit[0]) * 11\n",
    "    else:\n",
    "        return int(digit[0]) * 10 + int(digit[-1])\n",
    "df['calibrate'] = df['digit'].apply(calibrate)\n",
    "print(df.head())"
   ]
  },
  {
   "cell_type": "code",
   "execution_count": 29,
   "metadata": {},
   "outputs": [
    {
     "name": "stdout",
     "output_type": "stream",
     "text": [
      "54573\n"
     ]
    }
   ],
   "source": [
    "# Calculate total of df['calibrate'] column\n",
    "total = df['calibrate'].sum()\n",
    "print(total)"
   ]
  },
  {
   "cell_type": "markdown",
   "metadata": {},
   "source": [
    "## ***Day 1 - Part B***"
   ]
  },
  {
   "cell_type": "markdown",
   "metadata": {},
   "source": [
    "So the request is now more advance. Instead of finding numerical values within text, you need to identify digits represented as letters spelled out. Such as `one`, `two` etc...\n",
    "\n",
    "For example df['1'] = 'two8five6zfrtjj', calibrate value should be 26, not 86 as Day 1A.\n",
    "\n",
    "We will revise the approach by adjusting the regular expression "
   ]
  },
  {
   "cell_type": "code",
   "execution_count": 30,
   "metadata": {},
   "outputs": [
    {
     "data": {
      "text/html": [
       "<div>\n",
       "<style scoped>\n",
       "    .dataframe tbody tr th:only-of-type {\n",
       "        vertical-align: middle;\n",
       "    }\n",
       "\n",
       "    .dataframe tbody tr th {\n",
       "        vertical-align: top;\n",
       "    }\n",
       "\n",
       "    .dataframe thead th {\n",
       "        text-align: right;\n",
       "    }\n",
       "</style>\n",
       "<table border=\"1\" class=\"dataframe\">\n",
       "  <thead>\n",
       "    <tr style=\"text-align: right;\">\n",
       "      <th></th>\n",
       "      <th>0</th>\n",
       "    </tr>\n",
       "  </thead>\n",
       "  <tbody>\n",
       "    <tr>\n",
       "      <th>0</th>\n",
       "      <td>xt36five77</td>\n",
       "    </tr>\n",
       "    <tr>\n",
       "      <th>1</th>\n",
       "      <td>two8five6zfrtjj</td>\n",
       "    </tr>\n",
       "    <tr>\n",
       "      <th>2</th>\n",
       "      <td>eightthree8fiveqjgsdzgnnineeight</td>\n",
       "    </tr>\n",
       "    <tr>\n",
       "      <th>3</th>\n",
       "      <td>7chmvlhnpfive</td>\n",
       "    </tr>\n",
       "    <tr>\n",
       "      <th>4</th>\n",
       "      <td>1tcrgthmeight5mssseight</td>\n",
       "    </tr>\n",
       "  </tbody>\n",
       "</table>\n",
       "</div>"
      ],
      "text/plain": [
       "                                  0\n",
       "0                        xt36five77\n",
       "1                   two8five6zfrtjj\n",
       "2  eightthree8fiveqjgsdzgnnineeight\n",
       "3                     7chmvlhnpfive\n",
       "4           1tcrgthmeight5mssseight"
      ]
     },
     "execution_count": 30,
     "metadata": {},
     "output_type": "execute_result"
    }
   ],
   "source": [
    "# Import data input\n",
    "df_partB = pd.read_csv('input.txt', header=None)\n",
    "df_partB.head()"
   ]
  },
  {
   "cell_type": "code",
   "execution_count": 31,
   "metadata": {},
   "outputs": [
    {
     "name": "stdout",
     "output_type": "stream",
     "text": [
      "                                  0                                 digit\n",
      "0                        xt36five77                    [3, 6, five, 7, 7]\n",
      "1                   two8five6zfrtjj                     [two, 8, five, 6]\n",
      "2  eightthree8fiveqjgsdzgnnineeight  [eight, three, 8, five, nine, eight]\n",
      "3                     7chmvlhnpfive                             [7, five]\n",
      "4           1tcrgthmeight5mssseight                  [1, eight, 5, eight]\n"
     ]
    }
   ],
   "source": [
    "# Using new regular expression to extract numerical character.\n",
    "df_partB['digit'] = df_partB[0].apply(lambda x: re.findall(r'(?=(\\d|one|two|three|four|five|six|seven|eight|nine))', x))\n",
    "print(df_partB.head())"
   ]
  },
  {
   "cell_type": "code",
   "execution_count": 32,
   "metadata": {},
   "outputs": [
    {
     "data": {
      "text/html": [
       "<div>\n",
       "<style scoped>\n",
       "    .dataframe tbody tr th:only-of-type {\n",
       "        vertical-align: middle;\n",
       "    }\n",
       "\n",
       "    .dataframe tbody tr th {\n",
       "        vertical-align: top;\n",
       "    }\n",
       "\n",
       "    .dataframe thead th {\n",
       "        text-align: right;\n",
       "    }\n",
       "</style>\n",
       "<table border=\"1\" class=\"dataframe\">\n",
       "  <thead>\n",
       "    <tr style=\"text-align: right;\">\n",
       "      <th></th>\n",
       "      <th>0</th>\n",
       "      <th>digit</th>\n",
       "      <th>digit_converted</th>\n",
       "    </tr>\n",
       "  </thead>\n",
       "  <tbody>\n",
       "    <tr>\n",
       "      <th>0</th>\n",
       "      <td>xt36five77</td>\n",
       "      <td>[3, 6, five, 7, 7]</td>\n",
       "      <td>[3, 6, 5, 7, 7]</td>\n",
       "    </tr>\n",
       "    <tr>\n",
       "      <th>1</th>\n",
       "      <td>two8five6zfrtjj</td>\n",
       "      <td>[two, 8, five, 6]</td>\n",
       "      <td>[2, 8, 5, 6]</td>\n",
       "    </tr>\n",
       "    <tr>\n",
       "      <th>2</th>\n",
       "      <td>eightthree8fiveqjgsdzgnnineeight</td>\n",
       "      <td>[eight, three, 8, five, nine, eight]</td>\n",
       "      <td>[8, 3, 8, 5, 9, 8]</td>\n",
       "    </tr>\n",
       "    <tr>\n",
       "      <th>3</th>\n",
       "      <td>7chmvlhnpfive</td>\n",
       "      <td>[7, five]</td>\n",
       "      <td>[7, 5]</td>\n",
       "    </tr>\n",
       "    <tr>\n",
       "      <th>4</th>\n",
       "      <td>1tcrgthmeight5mssseight</td>\n",
       "      <td>[1, eight, 5, eight]</td>\n",
       "      <td>[1, 8, 5, 8]</td>\n",
       "    </tr>\n",
       "  </tbody>\n",
       "</table>\n",
       "</div>"
      ],
      "text/plain": [
       "                                  0                                 digit  \\\n",
       "0                        xt36five77                    [3, 6, five, 7, 7]   \n",
       "1                   two8five6zfrtjj                     [two, 8, five, 6]   \n",
       "2  eightthree8fiveqjgsdzgnnineeight  [eight, three, 8, five, nine, eight]   \n",
       "3                     7chmvlhnpfive                             [7, five]   \n",
       "4           1tcrgthmeight5mssseight                  [1, eight, 5, eight]   \n",
       "\n",
       "      digit_converted  \n",
       "0     [3, 6, 5, 7, 7]  \n",
       "1        [2, 8, 5, 6]  \n",
       "2  [8, 3, 8, 5, 9, 8]  \n",
       "3              [7, 5]  \n",
       "4        [1, 8, 5, 8]  "
      ]
     },
     "execution_count": 32,
     "metadata": {},
     "output_type": "execute_result"
    }
   ],
   "source": [
    "# Now we need to convert from word to number\n",
    "# First we create a function to convert word to number, not just from '0'-'9' to 0-9 but also 'zero'-'nine' to 0-9\n",
    "def convert_to_number(array):\n",
    "    word_to_num = {\n",
    "        'zero': 0, 'one': 1, 'two': 2, 'three': 3, 'four': 4,\n",
    "        'five': 5, 'six': 6, 'seven': 7, 'eight': 8, 'nine': 9\n",
    "    }\n",
    "    def convert(word):\n",
    "        if word in word_to_num:\n",
    "            return word_to_num[word]\n",
    "        else:\n",
    "            return int(word)\n",
    "    return [convert(x) for x in array]\n",
    "\n",
    "# Apply convert_to_number on every row of df dataframe\n",
    "df_partB['digit_converted'] = df_partB['digit'].apply(convert_to_number)\n",
    "df_partB.head()"
   ]
  },
  {
   "cell_type": "code",
   "execution_count": 33,
   "metadata": {},
   "outputs": [
    {
     "name": "stdout",
     "output_type": "stream",
     "text": [
      "                                  0                                 digit  \\\n",
      "0                        xt36five77                    [3, 6, five, 7, 7]   \n",
      "1                   two8five6zfrtjj                     [two, 8, five, 6]   \n",
      "2  eightthree8fiveqjgsdzgnnineeight  [eight, three, 8, five, nine, eight]   \n",
      "3                     7chmvlhnpfive                             [7, five]   \n",
      "4           1tcrgthmeight5mssseight                  [1, eight, 5, eight]   \n",
      "\n",
      "      digit_converted  calibrate  \n",
      "0     [3, 6, 5, 7, 7]         37  \n",
      "1        [2, 8, 5, 6]         26  \n",
      "2  [8, 3, 8, 5, 9, 8]         88  \n",
      "3              [7, 5]         75  \n",
      "4        [1, 8, 5, 8]         18  \n"
     ]
    }
   ],
   "source": [
    "# From the extracted numerical character, form the calibration values of 1st & last digit\n",
    "# Edge cases: \n",
    "# If the list is empty, calibration value = 0\n",
    "# If the list has only 1 element, calibration value = dupplicate of the digit. [8] -> 88\n",
    "def calibrate(digit):\n",
    "    if len(digit) == 0:\n",
    "        return 0\n",
    "    elif len(digit) == 1:\n",
    "        return int(digit[0]) * 11\n",
    "    else:\n",
    "        return int(digit[0]) * 10 + int(digit[-1])\n",
    "df_partB['calibrate'] = df_partB['digit_converted'].apply(calibrate)\n",
    "print(df_partB.head())"
   ]
  },
  {
   "cell_type": "code",
   "execution_count": 34,
   "metadata": {},
   "outputs": [
    {
     "name": "stdout",
     "output_type": "stream",
     "text": [
      "54591\n"
     ]
    }
   ],
   "source": [
    "# Calculate total of calibrated values\n",
    "total = df_partB['calibrate'].sum()\n",
    "print(total)"
   ]
  }
 ],
 "metadata": {
  "kernelspec": {
   "display_name": "Python 3",
   "language": "python",
   "name": "python3"
  },
  "language_info": {
   "codemirror_mode": {
    "name": "ipython",
    "version": 3
   },
   "file_extension": ".py",
   "mimetype": "text/x-python",
   "name": "python",
   "nbconvert_exporter": "python",
   "pygments_lexer": "ipython3",
   "version": "3.12.6"
  }
 },
 "nbformat": 4,
 "nbformat_minor": 2
}
