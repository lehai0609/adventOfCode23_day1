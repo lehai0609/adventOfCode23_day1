{
 "cells": [
  {
   "cell_type": "markdown",
   "metadata": {},
   "source": [
    "# ***Advent of Code 2023 - Day 1***\n",
    "\n",
    "***Objective***:\n",
    "Obtain `calibration value` by combining the `first digit` & `last digit` to form a single number.\n",
    "\n",
    "For example:\n",
    "\n",
    "1abc2\n",
    "\n",
    "pqr3stu8vwx\n",
    "\n",
    "a1b2c3d4e5f\n",
    "\n",
    "treb7uchet\n",
    "\n",
    "In this example, the calibration values of these four lines are 12, 38, 15, and 77. Adding these together produces 142.\n",
    "\n",
    "In the end, what is the total sum of calibration value of given input?"
   ]
  },
  {
   "cell_type": "markdown",
   "metadata": {},
   "source": [
    "## ***Day 1 - Part A***"
   ]
  },
  {
   "cell_type": "markdown",
   "metadata": {},
   "source": [
    "### Step 1: Obtain input data"
   ]
  },
  {
   "cell_type": "code",
   "execution_count": 5,
   "metadata": {},
   "outputs": [
    {
     "data": {
      "text/html": [
       "<div>\n",
       "<style scoped>\n",
       "    .dataframe tbody tr th:only-of-type {\n",
       "        vertical-align: middle;\n",
       "    }\n",
       "\n",
       "    .dataframe tbody tr th {\n",
       "        vertical-align: top;\n",
       "    }\n",
       "\n",
       "    .dataframe thead th {\n",
       "        text-align: right;\n",
       "    }\n",
       "</style>\n",
       "<table border=\"1\" class=\"dataframe\">\n",
       "  <thead>\n",
       "    <tr style=\"text-align: right;\">\n",
       "      <th></th>\n",
       "      <th>0</th>\n",
       "    </tr>\n",
       "  </thead>\n",
       "  <tbody>\n",
       "    <tr>\n",
       "      <th>0</th>\n",
       "      <td>xt36five77</td>\n",
       "    </tr>\n",
       "    <tr>\n",
       "      <th>1</th>\n",
       "      <td>two8five6zfrtjj</td>\n",
       "    </tr>\n",
       "    <tr>\n",
       "      <th>2</th>\n",
       "      <td>eightthree8fiveqjgsdzgnnineeight</td>\n",
       "    </tr>\n",
       "    <tr>\n",
       "      <th>3</th>\n",
       "      <td>7chmvlhnpfive</td>\n",
       "    </tr>\n",
       "    <tr>\n",
       "      <th>4</th>\n",
       "      <td>1tcrgthmeight5mssseight</td>\n",
       "    </tr>\n",
       "  </tbody>\n",
       "</table>\n",
       "</div>"
      ],
      "text/plain": [
       "                                  0\n",
       "0                        xt36five77\n",
       "1                   two8five6zfrtjj\n",
       "2  eightthree8fiveqjgsdzgnnineeight\n",
       "3                     7chmvlhnpfive\n",
       "4           1tcrgthmeight5mssseight"
      ]
     },
     "execution_count": 5,
     "metadata": {},
     "output_type": "execute_result"
    }
   ],
   "source": [
    "# Obtain input data from input.txt file\n",
    "import pandas as pd\n",
    "import numpy as np\n",
    "\n",
    "df = pd.read_csv('input.txt', header=None)\n",
    "df.head()"
   ]
  },
  {
   "cell_type": "markdown",
   "metadata": {},
   "source": [
    "### Step 2: Extract digit from each line"
   ]
  },
  {
   "cell_type": "code",
   "execution_count": 8,
   "metadata": {},
   "outputs": [
    {
     "name": "stdout",
     "output_type": "stream",
     "text": [
      "                                  0         digit\n",
      "0                        xt36five77  [3, 6, 7, 7]\n",
      "1                   two8five6zfrtjj        [8, 6]\n",
      "2  eightthree8fiveqjgsdzgnnineeight           [8]\n",
      "3                     7chmvlhnpfive           [7]\n",
      "4           1tcrgthmeight5mssseight        [1, 5]\n"
     ]
    }
   ],
   "source": [
    "# Using regular expression to extract numerical character from the string on each line\n",
    "# To achieve best performance, we use vectorized operation to loop through the entire dataframe\n",
    "import re\n",
    "df['digit'] = df[0].apply(lambda x: re.findall(r'\\d', x))\n",
    "print(df.head())"
   ]
  },
  {
   "cell_type": "code",
   "execution_count": 12,
   "metadata": {},
   "outputs": [
    {
     "name": "stdout",
     "output_type": "stream",
     "text": [
      "                                  0         digit  calibrate\n",
      "0                        xt36five77  [3, 6, 7, 7]         37\n",
      "1                   two8five6zfrtjj        [8, 6]         86\n",
      "2  eightthree8fiveqjgsdzgnnineeight           [8]         88\n",
      "3                     7chmvlhnpfive           [7]         77\n",
      "4           1tcrgthmeight5mssseight        [1, 5]         15\n"
     ]
    }
   ],
   "source": [
    "# From the extracted numerical character, form the calibration values of 1st & last digit\n",
    "# Edge cases: \n",
    "# If the list is empty, calibration value = 0\n",
    "# If the list has only 1 element, calibration value = dupplicate of the digit. [8] -> 88\n",
    "def calibrate(digit):\n",
    "    if len(digit) == 0:\n",
    "        return 0\n",
    "    elif len(digit) == 1:\n",
    "        return int(digit[0]) * 11\n",
    "    else:\n",
    "        return int(digit[0]) * 10 + int(digit[-1])\n",
    "df['calibrate'] = df['digit'].apply(calibrate)\n",
    "print(df.head())"
   ]
  },
  {
   "cell_type": "code",
   "execution_count": 15,
   "metadata": {},
   "outputs": [
    {
     "name": "stdout",
     "output_type": "stream",
     "text": [
      "54573\n"
     ]
    }
   ],
   "source": [
    "# Calculate total of df['calibrate'] column\n",
    "total = df['calibrate'].sum()\n",
    "print(total)"
   ]
  },
  {
   "cell_type": "markdown",
   "metadata": {},
   "source": [
    "## ***Day 1 - Part B***"
   ]
  },
  {
   "cell_type": "markdown",
   "metadata": {},
   "source": [
    "So the request is now more advance. Instead of finding numerical values within text, you need to identify digits represented as letters spelled out. Such as `one`, `two` etc...\n",
    "\n",
    "For example df['1'] = 'two8five6zfrtjj', calibrate value should be 26, not 86 as Day 1A.\n",
    "\n",
    "We will revise the approach by adjusting the regular expression "
   ]
  }
 ],
 "metadata": {
  "kernelspec": {
   "display_name": "Python 3",
   "language": "python",
   "name": "python3"
  },
  "language_info": {
   "codemirror_mode": {
    "name": "ipython",
    "version": 3
   },
   "file_extension": ".py",
   "mimetype": "text/x-python",
   "name": "python",
   "nbconvert_exporter": "python",
   "pygments_lexer": "ipython3",
   "version": "3.12.6"
  }
 },
 "nbformat": 4,
 "nbformat_minor": 2
}
